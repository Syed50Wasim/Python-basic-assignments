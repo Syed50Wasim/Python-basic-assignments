{
 "cells": [
  {
   "cell_type": "raw",
   "id": "ec0763e1",
   "metadata": {},
   "source": [
    "1.What exactly is []?\n",
    "Ans:-[] represents the absence of elements in a list, and you can use it as a starting point to build a list with one or more elements as needed in your code."
   ]
  },
  {
   "cell_type": "raw",
   "id": "4040d6f9",
   "metadata": {},
   "source": [
    "2. In a list of values stored in a variable called spam, how would you assign the value &#39;hello&#39; as the\n",
    "third value? (Assume [2, 4, 6, 8, 10] are in spam.)\n",
    "Ans:-"
   ]
  },
  {
   "cell_type": "code",
   "execution_count": 2,
   "id": "7f12ef41",
   "metadata": {},
   "outputs": [
    {
     "name": "stdout",
     "output_type": "stream",
     "text": [
      "['a', 'b', 'hello', 'd']\n"
     ]
    }
   ],
   "source": [
    "spam = ['a', 'b', 'c', 'd'] \n",
    "spam[2] = 'hello' \n",
    "print(spam)  "
   ]
  },
  {
   "cell_type": "raw",
   "id": "2ca83953",
   "metadata": {},
   "source": [
    "3.What is the value of spam[int(int('3'* 2) / 11)]?\n",
    "Ans:-"
   ]
  },
  {
   "cell_type": "code",
   "execution_count": 5,
   "id": "7c37f3f9",
   "metadata": {},
   "outputs": [
    {
     "data": {
      "text/plain": [
       "33"
      ]
     },
     "execution_count": 5,
     "metadata": {},
     "output_type": "execute_result"
    }
   ],
   "source": [
    "int('3'*2)"
   ]
  },
  {
   "cell_type": "code",
   "execution_count": 6,
   "id": "2ac5d0b6",
   "metadata": {},
   "outputs": [
    {
     "data": {
      "text/plain": [
       "3"
      ]
     },
     "execution_count": 6,
     "metadata": {},
     "output_type": "execute_result"
    }
   ],
   "source": [
    "int(33/11)"
   ]
  },
  {
   "cell_type": "code",
   "execution_count": 7,
   "id": "9626d325",
   "metadata": {},
   "outputs": [
    {
     "data": {
      "text/plain": [
       "'d'"
      ]
     },
     "execution_count": 7,
     "metadata": {},
     "output_type": "execute_result"
    }
   ],
   "source": [
    "spam[int(int('3'*2)/11)]"
   ]
  },
  {
   "cell_type": "raw",
   "id": "c907da8d",
   "metadata": {},
   "source": [
    "4. What is the value of spam[-1]?\n",
    "Ans:-\n",
    "The value of spam[-1] in Python corresponds to the last element of the list spam."
   ]
  },
  {
   "cell_type": "code",
   "execution_count": 9,
   "id": "2f95f871",
   "metadata": {},
   "outputs": [
    {
     "data": {
      "text/plain": [
       "'d'"
      ]
     },
     "execution_count": 9,
     "metadata": {},
     "output_type": "execute_result"
    }
   ],
   "source": [
    "spam[-1]"
   ]
  },
  {
   "cell_type": "raw",
   "id": "14a2a874",
   "metadata": {},
   "source": [
    "5. What is the value of spam[:2]?\n",
    "Let pretend bacon has the list [3.14,'cat',11,'cat',True] for the next three questions.\n",
    "Ans:-\n",
    "The value of spam[:2] is a list containing the first two elements of the list spam."
   ]
  },
  {
   "cell_type": "code",
   "execution_count": 11,
   "id": "41a740e1",
   "metadata": {},
   "outputs": [
    {
     "data": {
      "text/plain": [
       "['a', 'b']"
      ]
     },
     "execution_count": 11,
     "metadata": {},
     "output_type": "execute_result"
    }
   ],
   "source": [
    "spam[:2]"
   ]
  },
  {
   "cell_type": "code",
   "execution_count": 13,
   "id": "0a58a801",
   "metadata": {},
   "outputs": [
    {
     "data": {
      "text/plain": [
       "[3.14, 'cat']"
      ]
     },
     "execution_count": 13,
     "metadata": {},
     "output_type": "execute_result"
    }
   ],
   "source": [
    "bacon = [3.14, 'cat', 11, 'cat',True]\n",
    "bacon[:2] \n"
   ]
  },
  {
   "cell_type": "raw",
   "id": "b409831a",
   "metadata": {},
   "source": [
    "6.What is the value of bacon.index('cat')?\n",
    "Ans:-"
   ]
  },
  {
   "cell_type": "code",
   "execution_count": 15,
   "id": "4421c862",
   "metadata": {},
   "outputs": [
    {
     "data": {
      "text/plain": [
       "1"
      ]
     },
     "execution_count": 15,
     "metadata": {},
     "output_type": "execute_result"
    }
   ],
   "source": [
    "bacon.index('cat')"
   ]
  },
  {
   "cell_type": "raw",
   "id": "9eb3afa6",
   "metadata": {},
   "source": [
    "7.How does bacon.append(99) change the look of the list value in bacon?\n",
    "Ans:-"
   ]
  },
  {
   "cell_type": "code",
   "execution_count": 16,
   "id": "750277e4",
   "metadata": {},
   "outputs": [],
   "source": [
    "bacon = [3.14, 'cat', 11, 'cat',True]\n",
    "bacon.append(99)"
   ]
  },
  {
   "cell_type": "code",
   "execution_count": 17,
   "id": "0209f24a",
   "metadata": {},
   "outputs": [
    {
     "data": {
      "text/plain": [
       "[3.14, 'cat', 11, 'cat', True, 99]"
      ]
     },
     "execution_count": 17,
     "metadata": {},
     "output_type": "execute_result"
    }
   ],
   "source": [
    "bacon"
   ]
  },
  {
   "cell_type": "raw",
   "id": "3a654a1e",
   "metadata": {},
   "source": [
    "8.How does bacon.remove('cat') change the look of the list in bacon?\n",
    "Ans:-"
   ]
  },
  {
   "cell_type": "code",
   "execution_count": 19,
   "id": "dd6093c1",
   "metadata": {},
   "outputs": [],
   "source": [
    "bacon = [3.14, 'cat', 11, 'cat', True, 99]"
   ]
  },
  {
   "cell_type": "code",
   "execution_count": 20,
   "id": "703a8fd6",
   "metadata": {},
   "outputs": [],
   "source": [
    "bacon.remove('cat') "
   ]
  },
  {
   "cell_type": "code",
   "execution_count": 21,
   "id": "57d2ab88",
   "metadata": {},
   "outputs": [
    {
     "data": {
      "text/plain": [
       "[3.14, 11, 'cat', True, 99]"
      ]
     },
     "execution_count": 21,
     "metadata": {},
     "output_type": "execute_result"
    }
   ],
   "source": [
    "bacon"
   ]
  },
  {
   "cell_type": "raw",
   "id": "2f7b53e1",
   "metadata": {},
   "source": [
    "9.What are the list concatenation and list replication operators?\n",
    "Ans:-\n",
    "In Python, you can concatenate lists using the + operator, and you can replicate (duplicate) a list using the * operator.\n"
   ]
  },
  {
   "cell_type": "code",
   "execution_count": 23,
   "id": "8e8638d4",
   "metadata": {},
   "outputs": [
    {
     "name": "stdout",
     "output_type": "stream",
     "text": [
      "[1, 2, 3, 4, 5, 6]\n"
     ]
    }
   ],
   "source": [
    "#CONCATINATION\n",
    "list1 = [1, 2, 3]\n",
    "list2 = [4, 5, 6]\n",
    "result = list1 + list2 \n",
    "print(result)  \n"
   ]
  },
  {
   "cell_type": "code",
   "execution_count": 24,
   "id": "f5c2a59a",
   "metadata": {},
   "outputs": [
    {
     "name": "stdout",
     "output_type": "stream",
     "text": [
      "[1, 2, 3, 1, 2, 3, 1, 2, 3]\n"
     ]
    }
   ],
   "source": [
    "#REPLICATE \n",
    "original_list = [1, 2, 3]\n",
    "replicated_list = original_list * 3 \n",
    "print(replicated_list) \n"
   ]
  },
  {
   "cell_type": "raw",
   "id": "6ce91e99",
   "metadata": {},
   "source": [
    "10. What is difference between the list methods append() and insert()?\n",
    "Ans:-\n",
    "The append() and insert() methods in Python are both used to add elements to a list, but they differ in how they add elements and where they place them in the list"
   ]
  },
  {
   "cell_type": "code",
   "execution_count": 27,
   "id": "77a57771",
   "metadata": {},
   "outputs": [],
   "source": [
    "#Append meathod\n",
    "my_list = [1, 2, 3]\n",
    "my_list.append(4)"
   ]
  },
  {
   "cell_type": "code",
   "execution_count": 26,
   "id": "c40b5273",
   "metadata": {},
   "outputs": [
    {
     "data": {
      "text/plain": [
       "[1, 2, 3, 4]"
      ]
     },
     "execution_count": 26,
     "metadata": {},
     "output_type": "execute_result"
    }
   ],
   "source": [
    "my_list"
   ]
  },
  {
   "cell_type": "code",
   "execution_count": 28,
   "id": "1b62d58b",
   "metadata": {},
   "outputs": [],
   "source": [
    "#insert meathod \n",
    "my_list = [1, 2, 3]\n",
    "my_list.insert(1, 4)  \n"
   ]
  },
  {
   "cell_type": "code",
   "execution_count": 29,
   "id": "220c4500",
   "metadata": {},
   "outputs": [
    {
     "data": {
      "text/plain": [
       "[1, 4, 2, 3]"
      ]
     },
     "execution_count": 29,
     "metadata": {},
     "output_type": "execute_result"
    }
   ],
   "source": [
    "my_list"
   ]
  },
  {
   "cell_type": "raw",
   "id": "3959329c",
   "metadata": {},
   "source": [
    "11. What are the two methods for removing items from a list?\n",
    "Ans:-\n",
    "The remove() method is used to remove the first occurrence of a specified element from the list. It takes one argument, which is the element you want to remove.\n",
    "The pop() method is used to remove an element from the list at a specific index and return that element"
   ]
  },
  {
   "cell_type": "code",
   "execution_count": 30,
   "id": "f612066f",
   "metadata": {},
   "outputs": [],
   "source": [
    "#remove meathod \n",
    "my_list = [1, 2, 3, 2, 4]\n",
    "my_list.remove(2) "
   ]
  },
  {
   "cell_type": "code",
   "execution_count": 31,
   "id": "d660eba1",
   "metadata": {},
   "outputs": [
    {
     "data": {
      "text/plain": [
       "[1, 3, 2, 4]"
      ]
     },
     "execution_count": 31,
     "metadata": {},
     "output_type": "execute_result"
    }
   ],
   "source": [
    "my_list"
   ]
  },
  {
   "cell_type": "code",
   "execution_count": 33,
   "id": "3bb644b1",
   "metadata": {},
   "outputs": [],
   "source": [
    "#pop() meathod\n",
    "my_list = [1, 2, 3, 4]\n",
    "removed_element = my_list.pop(2)  "
   ]
  },
  {
   "cell_type": "code",
   "execution_count": 34,
   "id": "4348acda",
   "metadata": {},
   "outputs": [
    {
     "data": {
      "text/plain": [
       "3"
      ]
     },
     "execution_count": 34,
     "metadata": {},
     "output_type": "execute_result"
    }
   ],
   "source": [
    "removed_element "
   ]
  },
  {
   "cell_type": "raw",
   "id": "24c64b96",
   "metadata": {},
   "source": [
    "12.Describe how list values and string values are identical.\n",
    "Ans:-\n",
    "List values and string values are both types of data structures in programming, but they have different purposes and characteristics. However, there are some similarities and ways in which they can be considered identical.\n",
    "while lists and strings share some similarities due to their sequential nature and the ability to access elements through indexing, they have distinct characteristics and use cases. Lists are versatile collections for various data types, while strings are specifically designed for text manipulation and are immutable."
   ]
  },
  {
   "cell_type": "raw",
   "id": "9866b533",
   "metadata": {},
   "source": [
    "13. Whats the difference between tuples and lists?\n",
    "Ans:-\n",
    "\n",
    "Tuples and lists are both data structures in programming, but they have several key differences\n",
    "MUTABILITY:-\n",
    "Lists: Lists are mutable, which means you can change their contents after they are created. You can add, remove, or modify elements within a list.\n",
    "Tuples: Tuples are immutable, which means once you create a tuple, you cannot change its contents. You cannot add, remove, or modify elements within a tuple. If you need to make changes, you must create a new tuple.\n",
    "\n",
    "SYNTAX:-\n",
    "Lists: Lists are defined using square brackets []. For example: my_list = [1, 2, 3].\n",
    "Tuples: Tuples are defined using parentheses (). For example: my_tuple = (1, 2, 3).\n",
    "\n",
    "choose between lists and tuples based on whether you need mutable or immutable collections, respectively, for your specific use case. Lists are flexible for dynamic data, while tuples are suitable for situations where data should remain constant.\n",
    "\n",
    "\n"
   ]
  },
  {
   "cell_type": "raw",
   "id": "1b4a8e30",
   "metadata": {},
   "source": [
    "14. How do you type a tuple value that only contains the integer 42?\n",
    "Ans:-\n",
    "To create a tuple that contains only the integer 42, you can simply enclose the integer in parentheses.\n"
   ]
  },
  {
   "cell_type": "code",
   "execution_count": 1,
   "id": "64f01df8",
   "metadata": {},
   "outputs": [],
   "source": [
    "my_tuple = (42,)"
   ]
  },
  {
   "cell_type": "code",
   "execution_count": 2,
   "id": "9fe9dbc6",
   "metadata": {},
   "outputs": [
    {
     "data": {
      "text/plain": [
       "(42,)"
      ]
     },
     "execution_count": 2,
     "metadata": {},
     "output_type": "execute_result"
    }
   ],
   "source": [
    "my_tuple"
   ]
  },
  {
   "cell_type": "raw",
   "id": "9c562818",
   "metadata": {},
   "source": [
    "',' after the integer 42. This comma is necessary to indicate that you are creating a tuple with a single element. Without the comma, Python would interpret the parentheses as an expression grouping, and you would end up with an integer rather than a tuple"
   ]
  },
  {
   "cell_type": "raw",
   "id": "c71b5e6d",
   "metadata": {},
   "source": [
    "15. How do you get a list values tuple form? How do you get a tuple values list form?\n",
    "Ans:-\n",
    "To convert a list to a tuple or a tuple to a list in Python, you can use built-in functions like tuple() and list()."
   ]
  },
  {
   "cell_type": "code",
   "execution_count": 3,
   "id": "e9696752",
   "metadata": {},
   "outputs": [],
   "source": [
    "my_list = [1, 2, 3, 4, 5]\n",
    "my_tuple = tuple(my_list)"
   ]
  },
  {
   "cell_type": "code",
   "execution_count": 4,
   "id": "c08f852e",
   "metadata": {},
   "outputs": [
    {
     "data": {
      "text/plain": [
       "tuple"
      ]
     },
     "execution_count": 4,
     "metadata": {},
     "output_type": "execute_result"
    }
   ],
   "source": [
    "type(my_tuple)"
   ]
  },
  {
   "cell_type": "code",
   "execution_count": 5,
   "id": "04b445c7",
   "metadata": {},
   "outputs": [],
   "source": [
    "my_tuple = (1, 2, 3, 4, 5)\n",
    "my_list = list(my_tuple)"
   ]
  },
  {
   "cell_type": "code",
   "execution_count": 6,
   "id": "b300fc9b",
   "metadata": {},
   "outputs": [
    {
     "data": {
      "text/plain": [
       "list"
      ]
     },
     "execution_count": 6,
     "metadata": {},
     "output_type": "execute_result"
    }
   ],
   "source": [
    "type(my_list)"
   ]
  },
  {
   "cell_type": "raw",
   "id": "b211adb9",
   "metadata": {},
   "source": [
    "16.Variables that contain list values are not necessarily lists themselves. Instead, what do they\n",
    "contain?\n",
    "Ans:-\n",
    "Variables that \"contain\" list values in Python actually store references or pointers to those lists in memory. In other words, they hold the memory address where the list data is stored, rather than the actual list data itself. This concept is important to understand because it affects how variables and lists behave when assigned to new variables or passed as arguments to functions"
   ]
  },
  {
   "cell_type": "raw",
   "id": "5e39e46c",
   "metadata": {},
   "source": [
    "17. How do you distinguish between copy.copy() and copy.deepcopy()?\n",
    "Ans:-\n",
    "copy.copy() and copy.deepcopy() are two functions provided by the Python copy module, and they are used to create copies of objects, especially complex data structures like lists and dictionaries. However, they behave differently in terms of copying nested objects and references."
   ]
  },
  {
   "cell_type": "code",
   "execution_count": null,
   "id": "7c179e0d",
   "metadata": {},
   "outputs": [],
   "source": []
  }
 ],
 "metadata": {
  "kernelspec": {
   "display_name": "Python 3 (ipykernel)",
   "language": "python",
   "name": "python3"
  },
  "language_info": {
   "codemirror_mode": {
    "name": "ipython",
    "version": 3
   },
   "file_extension": ".py",
   "mimetype": "text/x-python",
   "name": "python",
   "nbconvert_exporter": "python",
   "pygments_lexer": "ipython3",
   "version": "3.9.12"
  }
 },
 "nbformat": 4,
 "nbformat_minor": 5
}
