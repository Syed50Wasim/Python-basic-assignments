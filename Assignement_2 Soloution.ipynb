{
 "cells": [
  {
   "cell_type": "raw",
   "id": "233882d8",
   "metadata": {},
   "source": [
    "1.What are the two values of the Boolean data type? How do you write them?"
   ]
  },
  {
   "cell_type": "raw",
   "id": "eb8f5965",
   "metadata": {},
   "source": [
    "A boolean data type with two possible values is True(1) or False(0)"
   ]
  },
  {
   "cell_type": "code",
   "execution_count": 1,
   "id": "97a29e96",
   "metadata": {},
   "outputs": [
    {
     "name": "stdout",
     "output_type": "stream",
     "text": [
      "True\n"
     ]
    }
   ],
   "source": [
    "#Example\n",
    "a=True\n",
    "print(a)"
   ]
  },
  {
   "cell_type": "code",
   "execution_count": 2,
   "id": "8d927346",
   "metadata": {},
   "outputs": [
    {
     "name": "stdout",
     "output_type": "stream",
     "text": [
      "False\n"
     ]
    }
   ],
   "source": [
    "b=False\n",
    "print(b)"
   ]
  },
  {
   "cell_type": "raw",
   "id": "a21f7171",
   "metadata": {},
   "source": [
    "2. What are the three different types of Boolean operators?"
   ]
  },
  {
   "cell_type": "raw",
   "id": "e40a4841",
   "metadata": {},
   "source": [
    "The three basic boolean operators are : AND , OR and NOT"
   ]
  },
  {
   "cell_type": "raw",
   "id": "9f69409c",
   "metadata": {},
   "source": [
    "3.Make a list of boolean operator truth table (i.e. every possible combination of boolean values for the operator and what is evaluvate)"
   ]
  },
  {
   "cell_type": "raw",
   "id": "e1290f6d",
   "metadata": {},
   "source": [
    "AND Boolean operaor\n",
    "True and True is True\n",
    "True and False is  False \n",
    "False and True is False\n",
    "False and False is False\n",
    "OR BOOLEAN OPERATOR \n",
    "True or True is True\n",
    "True or False is True\n",
    "False or True is True\n",
    "False or False is False\n",
    "NOT Boolean Operator \n",
    "not False is True \n",
    "not True is is False\n",
    "\n",
    "Table with boolean values \n",
    "AND table\n",
    "A  B   OUTPUT\n",
    "1  1     1\n",
    "1  0     0\n",
    "0  1     0\n",
    "0  0     0\n",
    "OR table\n",
    "A  B   OUTPUT\n",
    "1  1     1\n",
    "1  0     1\n",
    "0  1     1\n",
    "0  0     0\n",
    "NOT Operator \n",
    "A  B  \n",
    "1  0  \n",
    "0  1\n"
   ]
  },
  {
   "cell_type": "raw",
   "id": "5df10c4a",
   "metadata": {},
   "source": [
    "4. What are the values of the following expressions?\n",
    "(5 > 4) and (3 == 5)\n",
    "not (5 > 4)\n",
    "(5 > 4) or (3 == 5)\n",
    "not ((5 > 4) or (3 == 5))\n",
    "(True and True) and (True == False)\n",
    "(not False) or (not True)"
   ]
  },
  {
   "cell_type": "code",
   "execution_count": 9,
   "id": "48f53657",
   "metadata": {},
   "outputs": [
    {
     "name": "stdout",
     "output_type": "stream",
     "text": [
      "False\n",
      "False\n",
      "True\n",
      "False\n",
      "False\n",
      "True\n"
     ]
    }
   ],
   "source": [
    "print((5>4) and (3==5))\n",
    "print(not(5>4))\n",
    "print((5>4) or (3==5))\n",
    "print(not(5>4) or (3==5))\n",
    "print((True and True) and (True==False))\n",
    "print((not(False))or(not(True)))\n",
    "\n"
   ]
  },
  {
   "cell_type": "raw",
   "id": "3c35c6c9",
   "metadata": {},
   "source": [
    "5. What are the six comparison operators?"
   ]
  },
  {
   "cell_type": "raw",
   "id": "abfd6dda",
   "metadata": {},
   "source": [
    "A comparision operators compares two values either it give True and False. Total there are seven operators (>=)Greater then equal to,(<=)Less then equal to,(==)Equal to,(>)Greater then equal to,(!=)Not equal yo "
   ]
  },
  {
   "cell_type": "raw",
   "id": "b3bb2574",
   "metadata": {},
   "source": [
    "6. How do you tell the difference between the equal to and assignment operators?Describe a\n",
    "condition and when you would use one."
   ]
  },
  {
   "cell_type": "raw",
   "id": "fab15d7e",
   "metadata": {},
   "source": [
    "Equal operators are symbol which is equal to the expressions and assignment operators are not equal it is used for allocation . Equal operators when you have to show exact value of variable and assignment operators used for assign."
   ]
  },
  {
   "cell_type": "code",
   "execution_count": 1,
   "id": "a78ab289",
   "metadata": {},
   "outputs": [
    {
     "name": "stdout",
     "output_type": "stream",
     "text": [
      "ham\n",
      "spam\n",
      "spam\n"
     ]
    }
   ],
   "source": [
    "#7. Identify the three blocks in this code:\n",
    "spam = 0\n",
    "if spam == 10:\n",
    "    print(\"eggs\")\n",
    "if spam >5:\n",
    "    print(\"bacon\")\n",
    "else:\n",
    "    print(\"ham\")\n",
    "    print(\"spam\")\n",
    "    print(\"spam\")"
   ]
  },
  {
   "cell_type": "raw",
   "id": "640a8380",
   "metadata": {},
   "source": [
    "8. Write code that prints Hello if 1 is stored in spam, prints Howdy if 2 is stored in spam, and prints\n",
    "Greetings! if anything else is stored in spam."
   ]
  },
  {
   "cell_type": "code",
   "execution_count": 2,
   "id": "b9bea312",
   "metadata": {},
   "outputs": [
    {
     "name": "stdout",
     "output_type": "stream",
     "text": [
      "4\n",
      "Greetings!\n"
     ]
    }
   ],
   "source": [
    "spam = int(input())\n",
    "if spam==1:\n",
    "    print(\"Hello\")\n",
    "if spam==2:\n",
    "    print(\"Howdy\")\n",
    "else:\n",
    "    print(\"Greetings!\")"
   ]
  },
  {
   "cell_type": "raw",
   "id": "e7cb191b",
   "metadata": {},
   "source": [
    "9.If your programme is stuck in an endless loop, what keys you’ll press?"
   ]
  },
  {
   "cell_type": "raw",
   "id": "684484f5",
   "metadata": {},
   "source": [
    "An infinite loop is a loop that runs indefinitely and it only stops with external intervention or when the break statement is found . You can stop an infinite loop using CTRL + C"
   ]
  },
  {
   "cell_type": "raw",
   "id": "01031325",
   "metadata": {},
   "source": [
    "10. How can you tell the difference between break and continue?"
   ]
  },
  {
   "cell_type": "raw",
   "id": "fe557045",
   "metadata": {},
   "source": [
    "Break statement stops the entire process of the loop. Continue statement only stops the current iteration of the loop.Break also terminates the remaining iteration"
   ]
  },
  {
   "cell_type": "raw",
   "id": "c36c7aa2",
   "metadata": {},
   "source": [
    "11. In a for loop, what is the difference between range(10), range(0, 10), and range(0, 10, 1)?"
   ]
  },
  {
   "cell_type": "code",
   "execution_count": 3,
   "id": "ac0bfd24",
   "metadata": {},
   "outputs": [
    {
     "name": "stdout",
     "output_type": "stream",
     "text": [
      "0\n",
      "1\n",
      "2\n",
      "3\n",
      "4\n",
      "5\n",
      "6\n",
      "7\n",
      "8\n",
      "9\n"
     ]
    }
   ],
   "source": [
    "for i in range(10):\n",
    "    print(i)"
   ]
  },
  {
   "cell_type": "code",
   "execution_count": 4,
   "id": "e5a855c9",
   "metadata": {},
   "outputs": [
    {
     "name": "stdout",
     "output_type": "stream",
     "text": [
      "0\n",
      "1\n",
      "2\n",
      "3\n",
      "4\n",
      "5\n",
      "6\n",
      "7\n",
      "8\n",
      "9\n"
     ]
    }
   ],
   "source": [
    "for i in range(0,10):\n",
    "    print(i)"
   ]
  },
  {
   "cell_type": "code",
   "execution_count": 5,
   "id": "24eb26ca",
   "metadata": {},
   "outputs": [
    {
     "name": "stdout",
     "output_type": "stream",
     "text": [
      "0\n",
      "1\n",
      "2\n",
      "3\n",
      "4\n",
      "5\n",
      "6\n",
      "7\n",
      "8\n",
      "9\n"
     ]
    }
   ],
   "source": [
    "for i in range(0,10,1):\n",
    "    print(i)"
   ]
  },
  {
   "cell_type": "raw",
   "id": "28766d4d",
   "metadata": {},
   "source": [
    "There is no difference between range(10), range(0,10) and range(0,10,1) in a for loop"
   ]
  },
  {
   "cell_type": "raw",
   "id": "03525fc7",
   "metadata": {},
   "source": [
    "12. Write a short program that prints the numbers 1 to 10 using a for loop. Then write an equivalent\n",
    "program that prints the numbers 1 to 10 using a while loop."
   ]
  },
  {
   "cell_type": "code",
   "execution_count": 2,
   "id": "fd04790e",
   "metadata": {},
   "outputs": [
    {
     "name": "stdout",
     "output_type": "stream",
     "text": [
      "For Loop\n",
      "1\n",
      "2\n",
      "3\n",
      "4\n",
      "5\n",
      "6\n",
      "7\n",
      "8\n",
      "9\n",
      "10\n",
      "While Loop\n",
      "1\n",
      "2\n",
      "3\n",
      "4\n",
      "5\n",
      "6\n",
      "7\n",
      "8\n",
      "9\n",
      "10\n"
     ]
    }
   ],
   "source": [
    "#Use of For Loop\n",
    "print(\"For Loop\")\n",
    "for i in range(1,11):\n",
    "    print(i)\n",
    "#Use of While Loop\n",
    "print(\"While Loop\")\n",
    "a =1\n",
    "while a <= 10:\n",
    "    print(a)\n",
    "    a+=1\n",
    "\n"
   ]
  },
  {
   "cell_type": "code",
   "execution_count": null,
   "id": "33175148",
   "metadata": {},
   "outputs": [],
   "source": []
  },
  {
   "cell_type": "code",
   "execution_count": null,
   "id": "6eb8de38",
   "metadata": {},
   "outputs": [],
   "source": []
  }
 ],
 "metadata": {
  "kernelspec": {
   "display_name": "Python 3 (ipykernel)",
   "language": "python",
   "name": "python3"
  },
  "language_info": {
   "codemirror_mode": {
    "name": "ipython",
    "version": 3
   },
   "file_extension": ".py",
   "mimetype": "text/x-python",
   "name": "python",
   "nbconvert_exporter": "python",
   "pygments_lexer": "ipython3",
   "version": "3.9.12"
  }
 },
 "nbformat": 4,
 "nbformat_minor": 5
}
