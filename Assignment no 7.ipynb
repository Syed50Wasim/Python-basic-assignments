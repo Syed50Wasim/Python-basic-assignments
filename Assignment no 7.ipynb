{
 "cells": [
  {
   "cell_type": "raw",
   "id": "0af64949",
   "metadata": {},
   "source": [
    "1) What is the name of the feature responsible for generating Regex objects?\n",
    "Ans:-\n",
    "In Python, the feature responsible for generating regular expression (regex) objects is provided by the re module, and the primary function for creating regex objects is re.compile(pattern, flags=0). You create a regex object by compiling a regex pattern using this function."
   ]
  },
  {
   "cell_type": "code",
   "execution_count": 1,
   "id": "489629e7",
   "metadata": {},
   "outputs": [],
   "source": [
    "import re\n",
    "\n",
    "pattern = r'\\d+'  # This is a regex pattern that matches one or more digits\n",
    "regex_object = re.compile(pattern)"
   ]
  },
  {
   "cell_type": "raw",
   "id": "0b026dd0",
   "metadata": {},
   "source": [
    "In this example, re.compile() is used to generate a regex object that can then be used to perform various regex operations, such as searching, matching, and replacing text in strings."
   ]
  },
  {
   "cell_type": "raw",
   "id": "dbfc5caf",
   "metadata": {},
   "source": [
    "2)Why do raw strings often appear in Regex objects?\n",
    "Ans:-\n",
    "Raw strings (strings prefixed with r) are often used in regular expression (regex) objects to avoid unintended interpretation of escape sequences. This is because regex patterns frequently contain backslashes \\, which are used both as escape characters in regex syntax and as escape characters in regular Python strings."
   ]
  },
  {
   "cell_type": "raw",
   "id": "ea7999c5",
   "metadata": {},
   "source": [
    "3)What is the return value of the search() method?\n",
    "Ans:-\n",
    "The search() method in Python's re module is used to search for a specified pattern within a string. It scans the entire string and returns a match object if the pattern is found. If no match is found, it returns None."
   ]
  },
  {
   "cell_type": "raw",
   "id": "092ef80c",
   "metadata": {},
   "source": [
    "4.From a Match item, how do you get the actual strings that match the pattern?\n",
    "Ans:-\n",
    "To get the actual strings that match the pattern from a match object (an instance of the re.Match class), you can use the group() method. The group() method returns the matched substring.\n",
    "\n",
    "You can also use the group() method with arguments to retrieve specific capturing groups if your regex pattern contains groups. For example, match.group(1) would return the content of the first capturing group, match.group(2) for the second group, and so on."
   ]
  },
  {
   "cell_type": "raw",
   "id": "55a82697",
   "metadata": {},
   "source": [
    "5.In the regex which created from the r'(\\d\\d\\d)-(\\d\\d\\d-\\d\\d\\d\\d)', what does group zero cover?\n",
    "Group 2? Group 1?\n",
    "Ans:-\n",
    "In the regular expression r'(\\d\\d\\d)-(\\d\\d\\d-\\d\\d\\d\\d)', the concept of \"group zero\" doesn't explicitly exist, but it is often used to refer to the entire matched string. In this case, \"group zero\" would cover the entire string matched by the entire regex pattern.\n",
    "Group 0 (or the full match): The entire matched string, which includes both the first set of three digits and the second set of three digits separated by a hyphen.\n",
    "Group 1: The first set of three digits captured by the first pair of parentheses (\\d\\d\\d).\n",
    "Group 2: The second set of three digits followed by a hyphen captured by the second pair of parentheses (\\d\\d\\d-\\d\\d\\d\\d)."
   ]
  },
  {
   "cell_type": "raw",
   "id": "689934eb",
   "metadata": {},
   "source": [
    "6.In standard expression syntax, parentheses and intervals have distinct meanings. How can you tell\n",
    "a regex that you want it to fit real parentheses and periods?\n",
    "Ans:-\n",
    "\n",
    "In regular expressions, parentheses ( and ) are used for grouping and capturing, and periods . are used to match any character (except for a newline). If you want to match real parentheses and periods as literal characters in a regex pattern, you can \"escape\" them using a backslash \\.\n",
    "\n",
    "To match a real parenthesis (, use \\( in your regex pattern.\n",
    "\n",
    "To match a real parenthesis ), use \\) in your regex pattern.\n",
    "\n",
    "To match a real period ., use \\. in your regex pattern"
   ]
  },
  {
   "cell_type": "raw",
   "id": "9e6fcca6",
   "metadata": {},
   "source": [
    "7.The findall() method returns a string list or a list of string tuples. What causes it to return one of\n",
    "the two options?\n",
    "Ans:-\n",
    "The findall() method in Python's re module returns either a list of strings or a list of string tuples depending on whether your regular expression pattern contains capturing groups (parentheses).\n",
    "\n",
    "No Capturing Groups: If your regex pattern does not contain any capturing groups (i.e., no parentheses), findall() returns a list of strings. Each string in the list represents a non-overlapping match of the entire pattern in the input text.\n",
    "\n",
    "With Capturing Groups: If your regex pattern contains one or more capturing groups (i.e., one or more sets of parentheses), findall() returns a list of string tuples. Each tuple contains the captured substrings from each capturing group within a match.\n"
   ]
  },
  {
   "cell_type": "raw",
   "id": "88a84691",
   "metadata": {},
   "source": [
    "8.In standard expressions, what does the | character mean?\n",
    "Ans:-\n",
    "In regular expressions, the | character is used as a logical OR operator, often referred to as the \"pipe\" or \"alternation\" operator. It allows you to specify multiple alternatives within a regex pattern, and it matches any one of those alternatives."
   ]
  },
  {
   "cell_type": "raw",
   "id": "3e477a16",
   "metadata": {},
   "source": [
    "9.In regular expressions, what does the character stand for?\n",
    "Ans:-\n",
    ".(Dot): In regex, the dot (.) represents any single character except for a newline character (\\n). It's a wildcard that matches any character.\n",
    "* (Asterisk): The asterisk (*) is a quantifier that specifies \"zero or more\" occurrences of the preceding character or group. For example, a* matches zero or more 'a' characters.\n",
    "+ (Plus): The plus (+) is a quantifier that specifies \"one or more\" occurrences of the preceding character or group. For example, a+ matches one or more 'a' char\n",
    "[] (Square Brackets): Square brackets allow you to define a character class. For example, [aeiou] matches any one vowel.\n",
    "| (Pipe or Alternation): The pipe (|) is used for logical OR. For example, cat|dog matches either \"cat\" or \"dog.\"\n",
    "\\ (Backslash): The backslash (\\) is used to escape special characters, turning them into literal characters. For example, \\. matches a literal period, and \\\\ matches a literal backslash."
   ]
  },
  {
   "cell_type": "raw",
   "id": "78062b72",
   "metadata": {},
   "source": [
    "10.In regular expressions, what is the difference between the + and * characters?\n",
    "Ans:-\n",
    "In regular expressions, the + and * characters are both quantifiers used to specify the number of occurrences of the preceding character or group in a pattern.\n",
    "The + quantifier requires at least one occurrence of the preceding character or group, while the * quantifier allows for zero or more occurrences."
   ]
  },
  {
   "cell_type": "raw",
   "id": "a52e988e",
   "metadata": {},
   "source": [
    "11.What is the difference between {4} and {4,5} in regular expression?\n",
    "Ans:-\n",
    "In regular expressions, {4} and {4,5} are both quantifiers used to specify the number of occurrences of the preceding character or group in a pattern and {4} specifies an exact number of occurrences, while {4,5} specifies a range of occurrences."
   ]
  },
  {
   "cell_type": "raw",
   "id": "89d98d2c",
   "metadata": {},
   "source": [
    "12.What do you mean by the \\d, \\w, and \\s shorthand character classes signify in regular\n",
    "expressions?\n",
    "Ans:-\n",
    "In regular expressions, the \\d, \\w, and \\s are shorthand character classes that represent specific sets of characters.\n",
    "\\d matches digits, \\w matches word characters, and \\s matches whitespace characters in regular expressions. These shorthand character classes are convenient for common pattern matching tasks."
   ]
  },
  {
   "cell_type": "raw",
   "id": "f48f7632",
   "metadata": {},
   "source": [
    "13.What do means by \\D, \\W, and \\S shorthand character classes signify in regular expressions?\n",
    "Ans:-\n",
    "In regular expressions, the \\D, \\W, and \\S shorthand character classes are negations of their respective counterparts (\\d, \\w, and \\s). They represent character classes that match characters that are NOT digits, word characters, or whitespace characters, respectively.\n",
    "\\D matches non-digit characters, \\W matches non-word characters, and \\S matches non-whitespace characters in regular expressions. These negated shorthand character classes are useful for finding or splitting based on characters that are NOT of a particular type."
   ]
  },
  {
   "cell_type": "raw",
   "id": "48f6396a",
   "metadata": {},
   "source": [
    "14.What is the difference between .*? and .*?\n",
    "Ans:-\n",
    "In regular expressions, both .*? and .* are used to match sequences of characters, but they differ in their behavior due to the presence of the ? quantifier. Here's the difference between .*? and .*\n",
    ".*? performs non-greedy or lazy matching, while .* performs greedy matching. Your choice depends on whether you want to match the smallest or largest possible substring that satisfies your pattern."
   ]
  },
  {
   "cell_type": "raw",
   "id": "860fb0f5",
   "metadata": {},
   "source": [
    "15.What is the syntax for matching both numbers and lowercase letters with a character class?\n",
    "Ans:-\n",
    "To match both numbers and lowercase letters using a character class in a regular expression, We can include the desired character ranges within square brackets [].Create a character class that matches a combination of numbers and lowercase letters. You can customize the ranges or add more character classes as needed to match different sets of characters."
   ]
  },
  {
   "cell_type": "raw",
   "id": "bc4d974d",
   "metadata": {},
   "source": [
    "16.What is the procedure for making a normal expression in regax case insensitive?\n",
    "Ans:-\n",
    "Import the re module.\n",
    "Create or use your regular expression pattern.\n",
    "Compile the pattern using re.compile() and pass the re.IGNORECASE flag.\n",
    "Use the compiled pattern in the desired regex operation (e.g., search, match, findall)."
   ]
  },
  {
   "cell_type": "raw",
   "id": "8891dc4c",
   "metadata": {},
   "source": [
    "17.What does the . character normally match? What does it match if re.DOTALL is passed as 2nd\n",
    "argument in re.compile()?\n",
    "Ans:-\n",
    "The '.'character in a regular expression normally matches any character except for a newline character (\\n). It is a wildcard that matches any single character.\n",
    "However, if you pass re.DOTALL (or re.S) as the second argument when compiling a regex pattern using re.compile(), it changes the behavior of the . character. Specifically, with re.DOTALL, the . character matches any character, including newline characters (\\n).\n"
   ]
  },
  {
   "cell_type": "raw",
   "id": "a981b972",
   "metadata": {},
   "source": [
    "18.If numReg = re.compile(r'\\d+'), what will numRegex.sub('X', '11 drummers, 10 pipers, five rings, 4 hen') return?\n",
    "Ans:-\n",
    "The re.compile() function in Python is used to compile a regular expression pattern into a regex object. In your example, you have compiled the regex pattern r'\\d+' into the numReg regex object, which matches one or more digits.\n",
    "The numReg.sub('X', '11 drummers, 10 pipers, five rings, 4 hen') call will replace all occurrences of one or more digits with 'X' in the input string '11 drummers, 10 pipers, five rings, 4 hens'. So, the function will return the following string.\n",
    "'X drummers, X pipers, five rings, X hen\n",
    "All the numeric sequences have been replaced with 'X'\n"
   ]
  },
  {
   "cell_type": "raw",
   "id": "cbc83782",
   "metadata": {},
   "source": [
    "19.What does passing re.VERBOSE as the 2nd argument to re.compile() allow to do?\n",
    "Ans:-\n",
    "Passing re.VERBOSE as the second argument to re.compile() in Python allows you to write more readable and organized regular expressions by enabling \"verbose mode.\" In verbose mode, white spaces and comments within the regular expression pattern are ignored, which makes it easier to format and document complex regex patterns"
   ]
  },
  {
   "cell_type": "raw",
   "id": "6557c709",
   "metadata": {},
   "source": [
    "20. How would you write a regex that match a number with comma for every three digits? It must match the given following:\n",
    "'42'\n",
    "'1,234'\n",
    "'6,368,745'\n",
    "but not the following:\n",
    "'12,34,567' (which has only two digits between the commas)\n",
    "'1234' (which lacks commas)\n",
    "Ans:-"
   ]
  },
  {
   "cell_type": "raw",
   "id": "9fcb6787",
   "metadata": {},
   "source": [
    "^: Start of the line (anchoring the match at the beginning).\n",
    "(?:\\d{1,3},)*: This part matches any number of groups consisting of 1 to 3 digits followed by a comma (,). The (?: ... ) is a non-capturing group, and * allows for zero or more occurrences of this group.\n",
    "\\d{3}: Matches exactly three digits (the comma-separated part).\n",
    "$: End of the line (anchoring the match at the end)"
   ]
  },
  {
   "cell_type": "raw",
   "id": "4297c268",
   "metadata": {},
   "source": [
    "21.How would you write a regex that matches the full name of someone whose last name is Watanabe? You can assume that the first name that comes before it will always be one word that begins with a capital letter. The regex must match the following:\n",
    "'Haruto Watanabe'\n",
    "'Alice Watanabe'\n",
    "'RoboCop Watanabe'\n",
    "but not the following:\n",
    "'haruto Watanabe' (where the first name is not capitalized)\n",
    "'Mr. Watanabe' (where the preceding word has a nonletter character)\n",
    "'Watanabe' (which has no first name)\n",
    "'Haruto watanabe' (where Watanabe is not capitalized)\n",
    "Ans:-\n",
    "This regular expression will match names like 'Haruto Watanabe,' 'Alice Watanabe,' and 'RoboCop Watanabe,' where the first name starts with a capital letter and is followed by the last name \"Watanabe.\" It won't match names where the first name is not capitalized, where the preceding word has a non-letter character, where there's no first name, or where \"Watanabe\" is not capitalized, as you specified in your examples."
   ]
  },
  {
   "cell_type": "raw",
   "id": "6d10ebba",
   "metadata": {},
   "source": [
    "22.How would you write a regex that matches a sentence where the first word is either Alice, Bob, or Carol; the second word is either eats, pets, or throws; the third word is apples, cats, or baseballs; and the sentence ends with a period? This regex should be case-insensitive. It must match the following:\n",
    "'Alice eats apples.'\n",
    "'Bob pets cats.'\n",
    "'Carol throws baseballs.'\n",
    "'Alice throws Apples.'\n",
    "'BOB EATS CATS.'\n",
    "but not the following:\n",
    "'RoboCop eats apples.'\n",
    "'ALICE THROWS FOOTBALLS.'\n",
    "'Carol eats 7 cats.'\n",
    "Ans:-\n",
    "This regular expression will match sentences where the first word is either Alice, Bob, or Carol; the second word is either eats, pets, or throws; the third word is apples, cats, or baseballs; and the sentence ends with a period, while ignoring the letter case. It will match sentences like 'Alice eats apples,' 'Bob pets cats,' 'Carol throws baseballs,' 'Alice throws Apples,' and 'BOB EATS CATS,' as you specified. It won't match sentences that do not meet these criteria, such as 'RoboCop eats apples,' 'ALICE THROWS FOOTBALLS,' or 'Carol eats 7 cats."
   ]
  },
  {
   "cell_type": "code",
   "execution_count": null,
   "id": "469bc807",
   "metadata": {},
   "outputs": [],
   "source": []
  }
 ],
 "metadata": {
  "kernelspec": {
   "display_name": "Python 3 (ipykernel)",
   "language": "python",
   "name": "python3"
  },
  "language_info": {
   "codemirror_mode": {
    "name": "ipython",
    "version": 3
   },
   "file_extension": ".py",
   "mimetype": "text/x-python",
   "name": "python",
   "nbconvert_exporter": "python",
   "pygments_lexer": "ipython3",
   "version": "3.9.12"
  }
 },
 "nbformat": 4,
 "nbformat_minor": 5
}
